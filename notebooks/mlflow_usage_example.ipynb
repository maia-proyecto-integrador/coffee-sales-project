{
  "nbformat": 4,
  "nbformat_minor": 0,
  "metadata": {
    "colab": {
      "provenance": []
    },
    "kernelspec": {
      "name": "python3",
      "display_name": "Python 3"
    },
    "language_info": {
      "name": "python"
    }
  },
  "cells": [
    {
      "cell_type": "code",
      "source": [
        "!pip install mlflow[auth]\n",
        "!pip install boto3\n",
        "\n",
        "# Importación de librerías necesarias\n",
        "import os\n",
        "import mlflow\n",
        "\n",
        "#Limpia los registros generados\n",
        "from IPython.display import clear_output\n",
        "clear_output()\n",
        "print(\"Todas las librerías han sido instaladas correctamente.\")"
      ],
      "metadata": {
        "colab": {
          "base_uri": "https://localhost:8080/"
        },
        "id": "HqRuCRTgw0Bo",
        "outputId": "0ebccb40-ff16-42be-8ada-2eceab46e435"
      },
      "execution_count": 1,
      "outputs": [
        {
          "output_type": "stream",
          "name": "stdout",
          "text": [
            "Todas las librerías han sido instaladas correctamente.\n"
          ]
        }
      ]
    },
    {
      "cell_type": "code",
      "source": [
        "# Variables de entorno necesarias para Databricks experiments\n",
        "os.environ[\"MLFLOW_TRACKING_USERNAME\"] = \"rafael\"\n",
        "os.environ[\"MLFLOW_TRACKING_PASSWORD\"] = \"Mj5LRW74XxCu\""
      ],
      "metadata": {
        "id": "WkecgWjCtKnR"
      },
      "execution_count": 5,
      "outputs": []
    },
    {
      "cell_type": "code",
      "source": [
        "# Importe el conjunto de datos de diabetes y divídalo en entrenamiento y prueba usando scikit-learn\n",
        "from sklearn.model_selection import train_test_split\n",
        "from sklearn.datasets import load_diabetes\n",
        "\n",
        "db = load_diabetes()\n",
        "X = db.data\n",
        "y = db.target\n",
        "X_train, X_test, y_train, y_test = train_test_split(X, y)"
      ],
      "metadata": {
        "id": "OsHzGe4OqrgT"
      },
      "execution_count": 3,
      "outputs": []
    },
    {
      "cell_type": "code",
      "source": [
        "#Importe MLFlow para registrar los experimentos, el regresor de bosques aleatorios y la métrica de error cuadrático medio\n",
        "import mlflow.sklearn\n",
        "from sklearn.ensemble import RandomForestRegressor\n",
        "from sklearn.metrics import mean_squared_error\n",
        "\n",
        "# defina el servidor para llevar el registro de modelos y artefactos\n",
        "mlflow.set_tracking_uri(\"http://54.163.40.154:5000\")\n",
        "# registre el experimento\n",
        "experiment = mlflow.set_experiment(\"microproyecto_coffee_sales\")\n",
        "print(experiment.experiment_id)\n",
        "\n",
        "# Aquí se ejecuta MLflow sin especificar un nombre o id del experimento. MLflow los crea un experimento para este cuaderno por defecto y guarda las características del experimento y las métricas definidas.\n",
        "# Para ver el resultado de las corridas haga click en Experimentos en el menú izquierdo.\n",
        "with mlflow.start_run(experiment_id=experiment.experiment_id):\n",
        "    # defina los parámetros del modelo\n",
        "    n_estimators = 200\n",
        "    max_depth = 6\n",
        "    max_features = 4\n",
        "    # Cree el modelo con los parámetros definidos y entrénelo\n",
        "    rf = RandomForestRegressor(n_estimators = n_estimators, max_depth = max_depth, max_features = max_features)\n",
        "    rf.fit(X_train, y_train)\n",
        "    # Realice predicciones de prueba\n",
        "    predictions = rf.predict(X_test)\n",
        "\n",
        "    # Registre los parámetros\n",
        "    mlflow.log_param(\"num_trees\", n_estimators)\n",
        "    mlflow.log_param(\"maxdepth\", max_depth)\n",
        "    mlflow.log_param(\"max_feat\", max_features)\n",
        "\n",
        "    # Registre el modelo\n",
        "    mlflow.sklearn.log_model(rf, \"random-forest-model\")\n",
        "\n",
        "    # Cree y registre la métrica de interés\n",
        "    mse = mean_squared_error(y_test, predictions)\n",
        "    mlflow.log_metric(\"mse\", mse)\n",
        "    print(mse)"
      ],
      "metadata": {
        "colab": {
          "base_uri": "https://localhost:8080/"
        },
        "id": "tOTCKcjFu5V7",
        "outputId": "4159ae5f-5426-49c1-bf82-bd86719e4090"
      },
      "execution_count": 9,
      "outputs": [
        {
          "output_type": "stream",
          "name": "stdout",
          "text": [
            "12\n"
          ]
        },
        {
          "output_type": "stream",
          "name": "stderr",
          "text": [
            "2025/09/19 04:20:24 WARNING mlflow.models.model: `artifact_path` is deprecated. Please use `name` instead.\n",
            "\u001b[31m2025/09/19 04:20:30 WARNING mlflow.models.model: Model logged without a signature and input example. Please set `input_example` parameter when logging the model to auto infer the model signature.\u001b[0m\n"
          ]
        },
        {
          "output_type": "stream",
          "name": "stdout",
          "text": [
            "3414.2148399540565\n",
            "🏃 View run prueba-1 at: http://54.163.40.154:5000/#/experiments/12/runs/971d3e89a82741aea0f0111dd980c98c\n",
            "🧪 View experiment at: http://54.163.40.154:5000/#/experiments/12\n"
          ]
        }
      ]
    }
  ]
}